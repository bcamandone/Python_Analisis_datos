{
  "cells": [
    {
      "cell_type": "markdown",
      "metadata": {
        "id": "cJ19HeAGZnzw"
      },
      "source": [
        "# Basic Pandas Test"
      ]
    },
    {
      "cell_type": "code",
      "execution_count": null,
      "metadata": {
        "id": "ttELfGTVAAx_"
      },
      "outputs": [],
      "source": [
        "import pandas as pd\n",
        "url = 'https://raw.githubusercontent.com/bcamandone/Python_Analisis_datos/main/Titanic%20Dataset/titanic_train.csv'\n",
        "titanic = pd.read_csv(url)\n"
      ]
    },
    {
      "cell_type": "code",
      "execution_count": null,
      "metadata": {
        "cellView": "form",
        "id": "vSID9Bmj-MJH"
      },
      "outputs": [],
      "source": [
        "#@markdown ### Preguntas { display-mode: \"form\" }\n",
        "#@markdown 1. ¿Cuántas filas se muestran al ejecutar este código, asumiendo que el dataframe (titanic) contiene 1000 registros??\n",
        "\n",
        "     #@markdown data.head()\n",
        "\n",
        "#@markdown Marque la correcta:\n",
        "#@markdown  - a. 1\n",
        "#@markdown  - b. 5\n",
        "#@markdown  - c. 10\n",
        "#@markdown  - d. 100\n",
        "\n",
        "\n",
        "item_1 = \"Seleccionar respuesta\" # @param [\"a\", \"b\", \"c\", \"d\",\"Seleccionar respuesta\"]"
      ]
    },
    {
      "cell_type": "code",
      "execution_count": null,
      "metadata": {
        "cellView": "form",
        "id": "kpnyTCIu_M8q"
      },
      "outputs": [],
      "source": [
        "#@markdown{ display-mode: \"form\" }\n",
        "#@markdown 2.¿Qué instrucción me permite conocer el tamaño que tiene el Dataframe del titanic?\n",
        "\n",
        "\n",
        "#@markdown Marque la correcta:\n",
        "#@markdown  - a. len(titanic)\n",
        "#@markdown  - b. titanic.columns\n",
        "#@markdown  - c. titanic.shape\n",
        "\n",
        "\n",
        "\n",
        "item_2 = \"Seleccionar respuesta\" # @param [\"a\", \"b\", \"c\",\"Seleccionar respuesta\"]"
      ]
    },
    {
      "cell_type": "code",
      "execution_count": null,
      "metadata": {
        "cellView": "form",
        "id": "PmRHv-Q9DdVb"
      },
      "outputs": [],
      "source": [
        "#@markdown{ display-mode: \"form\" }\n",
        "#@markdown 3.Se cuenta con información en un archivo CSV, sin embargo al momento de crear este archivo los datos fueron separados no con comas (,) sino con punto y comas (;). ¿Qué instrucción me permite cargar esta data?\n",
        "\n",
        "\n",
        "\n",
        "#@markdown Marque la correcta:\n",
        "#@markdown  - a. titanic = pd.read_csv('titanic.csv', divide=';')\n",
        "#@markdown  - b. titanic = pd.read_csv('titanic.csv', separator=';')\n",
        "#@markdown  - c. titanic = pd.read_csv('titanic.csv', delimiter=';')\n",
        "\n",
        "\n",
        "\n",
        "item_3 = \"Seleccionar respuesta\" # @param [\"a\", \"b\", \"c\",\"Seleccionar respuesta\"]"
      ]
    },
    {
      "cell_type": "code",
      "execution_count": null,
      "metadata": {
        "cellView": "form",
        "id": "nbchipYuDnM3"
      },
      "outputs": [],
      "source": [
        "#@markdown{ display-mode: \"form\" }\n",
        "#@markdown 4. ¿Cuál de las sentencias muestra la siguiente información del conjunto de datos?\n",
        "\n",
        "\n",
        "\n",
        "#@markdown Marque la correcta:\n",
        "#@markdown  - a. titanic.info()\n",
        "#@markdown  - b. titanic.summary()\n",
        "#@markdown  - c. titanic.describe()\n",
        "\n",
        "\n",
        "\n",
        "item_4 = \"Seleccionar respuesta\" # @param [\"a\", \"b\", \"c\",\"Seleccionar respuesta\"]"
      ]
    },
    {
      "cell_type": "markdown",
      "metadata": {
        "id": "k_oXKh1AFACi"
      },
      "source": [
        "![5.png](data:image/png;base64,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)"
      ]
    },
    {
      "cell_type": "code",
      "execution_count": null,
      "metadata": {
        "cellView": "form",
        "id": "WUXS656ODn67"
      },
      "outputs": [],
      "source": [
        "#@markdown{ display-mode: \"form\" }\n",
        "#@markdown 5.¿Qué instrucción puedo utilizar para obtener los 10 últimos elementos del Dataframe titanic?\n",
        "\n",
        "\n",
        "#@markdown Marque la correcta:\n",
        "#@markdown  - a. titanic.last(10)\n",
        "#@markdown  - b. titanic.tail(10)\n",
        "#@markdown  - c. titanic.limit(10)\n",
        "\n",
        "\n",
        "\n",
        "item_5 = \"Seleccionar respuesta\" # @param [\"a\", \"b\", \"c\",\"Seleccionar respuesta\"]"
      ]
    },
    {
      "cell_type": "code",
      "execution_count": null,
      "metadata": {
        "cellView": "form",
        "id": "QPx5zVpYDogD"
      },
      "outputs": [],
      "source": [
        "#@markdown{ display-mode: \"form\" }\n",
        "#@markdown 6.Obtener aquellos pasajeros que pagaron un ticket > 100, ¿Cuál es la instrucción que nos permite obtener este conjunto de datos?\n",
        "\n",
        "\n",
        "\n",
        "#@markdown Marque la correcta:\n",
        "#@markdown  - a. titanic['fare' > 100]\n",
        "#@markdown  - b. titanic['fare' < 100]\n",
        "#@markdown  - c. titanic[titanic['fare'] > 100]\n",
        "#@markdown  - c. titanic[titanic('fare') > 100]\n",
        "\n",
        "\n",
        "\n",
        "item_6 = \"Seleccionar respuesta\" # @param [\"a\", \"b\", \"c\",\"d\",\"Seleccionar respuesta\"]"
      ]
    },
    {
      "cell_type": "code",
      "execution_count": null,
      "metadata": {
        "cellView": "form",
        "id": "tSof1Sn1G4Zf"
      },
      "outputs": [],
      "source": [
        "#@markdown{ display-mode: \"form\" }\n",
        "#@markdown 7.La siguiente linea de código: titanic.sort_values('fare') ordena el dataframe del titanic en base a la columna fare de mayor a menor\n",
        "\n",
        "\n",
        "\n",
        "#@markdown Marque la correcta:\n",
        "#@markdown  - a. Verdadero\n",
        "#@markdown  - b. Falso\n",
        "\n",
        "\n",
        "item_7 = \"Seleccionar respuesta\" # @param [\"a\", \"b\",\"Seleccionar respuesta\"]"
      ]
    },
    {
      "cell_type": "code",
      "execution_count": null,
      "metadata": {
        "cellView": "form",
        "id": "pGIdlfNVHVcP"
      },
      "outputs": [],
      "source": [
        "#@markdown{ display-mode: \"form\" }\n",
        "#@markdown 8.La siguiente linea de código titanic['Survived'].value_counts() me permite saber cuantos sobrevivientes tuvo el titanic\n",
        "\n",
        "\n",
        "\n",
        "#@markdown Marque la correcta:\n",
        "#@markdown  - a. Verdadero\n",
        "#@markdown  - b. Falso\n",
        "\n",
        "\n",
        "\n",
        "\n",
        "item_8 = \"Seleccionar respuesta\" # @param [\"a\", \"b\",\"Seleccionar respuesta\"]"
      ]
    },
    {
      "cell_type": "code",
      "execution_count": null,
      "metadata": {
        "cellView": "form",
        "id": "MZBvJNaPIfMY"
      },
      "outputs": [],
      "source": [
        "#@markdown{ display-mode: \"form\" }\n",
        "#@markdown 9.La siguiente linea de código: titanic.loc[titanic['Sex'] =='female','Fare'].mean() devuelve la tarifa que pagaron en promedio los hombres\n",
        "\n",
        "\n",
        "\n",
        "#@markdown Marque la correcta:\n",
        "#@markdown  - a. Verdadero\n",
        "#@markdown  - b. Falso\n",
        "\n",
        "\n",
        "\n",
        "\n",
        "item_9 = \"Seleccionar respuesta\" # @param [\"a\", \"b\",\"Seleccionar respuesta\"]"
      ]
    },
    {
      "cell_type": "code",
      "execution_count": null,
      "metadata": {
        "cellView": "form",
        "id": "IH4s4Z6gIf7I"
      },
      "outputs": [],
      "source": [
        "#@markdown{ display-mode: \"form\" }\n",
        "#@markdown 10.La siguiente linea de código: titanic.groupby('Sex').mean()['Age']) devuelve el promedio de edad agrupado por sexo\n",
        "\n",
        "\n",
        "\n",
        "#@markdown Marque la correcta:\n",
        "#@markdown  - a. Verdadero\n",
        "#@markdown  - b. Falso\n",
        "\n",
        "\n",
        "\n",
        "\n",
        "item_10 = \"Seleccionar respuesta\" # @param [\"a\", \"b\",\"Seleccionar respuesta\"]"
      ]
    }
  ],
  "metadata": {
    "colab": {
      "provenance": []
    },
    "kernelspec": {
      "display_name": "Python 3",
      "name": "python3"
    },
    "language_info": {
      "name": "python"
    }
  },
  "nbformat": 4,
  "nbformat_minor": 0
}
