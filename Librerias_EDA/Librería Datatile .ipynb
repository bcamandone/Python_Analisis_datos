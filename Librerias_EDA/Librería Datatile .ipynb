{
 "cells": [
  {
   "cell_type": "code",
   "execution_count": 2,
   "id": "8ea3099a",
   "metadata": {},
   "outputs": [],
   "source": [
    "import pandas as  pd\n"
   ]
  },
  {
   "cell_type": "code",
   "execution_count": 3,
   "id": "2c83fe77",
   "metadata": {},
   "outputs": [],
   "source": [
    "#Utilizamos pandas para importar el CSV\n",
    "df = pd.read_csv('Advertising.csv')"
   ]
  },
  {
   "cell_type": "code",
   "execution_count": 4,
   "id": "7b13f36e",
   "metadata": {},
   "outputs": [
    {
     "data": {
      "text/html": [
       "<div>\n",
       "<style scoped>\n",
       "    .dataframe tbody tr th:only-of-type {\n",
       "        vertical-align: middle;\n",
       "    }\n",
       "\n",
       "    .dataframe tbody tr th {\n",
       "        vertical-align: top;\n",
       "    }\n",
       "\n",
       "    .dataframe thead th {\n",
       "        text-align: right;\n",
       "    }\n",
       "</style>\n",
       "<table border=\"1\" class=\"dataframe\">\n",
       "  <thead>\n",
       "    <tr style=\"text-align: right;\">\n",
       "      <th></th>\n",
       "      <th>TV</th>\n",
       "      <th>Radio</th>\n",
       "      <th>Newspaper</th>\n",
       "      <th>Sales</th>\n",
       "    </tr>\n",
       "  </thead>\n",
       "  <tbody>\n",
       "    <tr>\n",
       "      <th>0</th>\n",
       "      <td>230.1</td>\n",
       "      <td>37.8</td>\n",
       "      <td>69.2</td>\n",
       "      <td>22.1</td>\n",
       "    </tr>\n",
       "    <tr>\n",
       "      <th>1</th>\n",
       "      <td>44.5</td>\n",
       "      <td>39.3</td>\n",
       "      <td>45.1</td>\n",
       "      <td>10.4</td>\n",
       "    </tr>\n",
       "    <tr>\n",
       "      <th>2</th>\n",
       "      <td>17.2</td>\n",
       "      <td>45.9</td>\n",
       "      <td>69.3</td>\n",
       "      <td>9.3</td>\n",
       "    </tr>\n",
       "    <tr>\n",
       "      <th>3</th>\n",
       "      <td>151.5</td>\n",
       "      <td>41.3</td>\n",
       "      <td>58.5</td>\n",
       "      <td>18.5</td>\n",
       "    </tr>\n",
       "  </tbody>\n",
       "</table>\n",
       "</div>"
      ],
      "text/plain": [
       "      TV  Radio  Newspaper  Sales\n",
       "0  230.1   37.8       69.2   22.1\n",
       "1   44.5   39.3       45.1   10.4\n",
       "2   17.2   45.9       69.3    9.3\n",
       "3  151.5   41.3       58.5   18.5"
      ]
     },
     "execution_count": 4,
     "metadata": {},
     "output_type": "execute_result"
    }
   ],
   "source": [
    "df.head(4)"
   ]
  },
  {
   "cell_type": "code",
   "execution_count": 5,
   "id": "a54d842e",
   "metadata": {},
   "outputs": [],
   "source": [
    "#importamos datatile\n",
    "from datatile.summary.df import DataFrameSummary"
   ]
  },
  {
   "cell_type": "code",
   "execution_count": 6,
   "id": "41594b26",
   "metadata": {},
   "outputs": [],
   "source": [
    "#Analizamos el dataset\n",
    "dff = DataFrameSummary(df)"
   ]
  },
  {
   "cell_type": "markdown",
   "id": "cdcbd93d",
   "metadata": {},
   "source": [
    "El método .summary() devuelve la cantidad y el porcentaje de valores faltantes, \n",
    "la cantidad de valores únicos, el tipo de datos y las estadísticas de resumen para cada columna. "
   ]
  },
  {
   "cell_type": "code",
   "execution_count": 11,
   "id": "09ac9ca9",
   "metadata": {},
   "outputs": [
    {
     "data": {
      "text/html": [
       "<div>\n",
       "<style scoped>\n",
       "    .dataframe tbody tr th:only-of-type {\n",
       "        vertical-align: middle;\n",
       "    }\n",
       "\n",
       "    .dataframe tbody tr th {\n",
       "        vertical-align: top;\n",
       "    }\n",
       "\n",
       "    .dataframe thead th {\n",
       "        text-align: right;\n",
       "    }\n",
       "</style>\n",
       "<table border=\"1\" class=\"dataframe\">\n",
       "  <thead>\n",
       "    <tr style=\"text-align: right;\">\n",
       "      <th></th>\n",
       "      <th>TV</th>\n",
       "      <th>Radio</th>\n",
       "      <th>Newspaper</th>\n",
       "      <th>Sales</th>\n",
       "    </tr>\n",
       "  </thead>\n",
       "  <tbody>\n",
       "    <tr>\n",
       "      <th>count</th>\n",
       "      <td>200.0</td>\n",
       "      <td>200.0</td>\n",
       "      <td>200.0</td>\n",
       "      <td>200.0</td>\n",
       "    </tr>\n",
       "    <tr>\n",
       "      <th>mean</th>\n",
       "      <td>147.0425</td>\n",
       "      <td>23.264</td>\n",
       "      <td>30.554</td>\n",
       "      <td>14.0225</td>\n",
       "    </tr>\n",
       "    <tr>\n",
       "      <th>std</th>\n",
       "      <td>85.854236</td>\n",
       "      <td>14.846809</td>\n",
       "      <td>21.778621</td>\n",
       "      <td>5.217457</td>\n",
       "    </tr>\n",
       "    <tr>\n",
       "      <th>min</th>\n",
       "      <td>0.7</td>\n",
       "      <td>0.0</td>\n",
       "      <td>0.3</td>\n",
       "      <td>1.6</td>\n",
       "    </tr>\n",
       "    <tr>\n",
       "      <th>25%</th>\n",
       "      <td>74.375</td>\n",
       "      <td>9.975</td>\n",
       "      <td>12.75</td>\n",
       "      <td>10.375</td>\n",
       "    </tr>\n",
       "    <tr>\n",
       "      <th>50%</th>\n",
       "      <td>149.75</td>\n",
       "      <td>22.9</td>\n",
       "      <td>25.75</td>\n",
       "      <td>12.9</td>\n",
       "    </tr>\n",
       "    <tr>\n",
       "      <th>75%</th>\n",
       "      <td>218.825</td>\n",
       "      <td>36.525</td>\n",
       "      <td>45.1</td>\n",
       "      <td>17.4</td>\n",
       "    </tr>\n",
       "    <tr>\n",
       "      <th>max</th>\n",
       "      <td>296.4</td>\n",
       "      <td>49.6</td>\n",
       "      <td>114.0</td>\n",
       "      <td>27.0</td>\n",
       "    </tr>\n",
       "    <tr>\n",
       "      <th>counts</th>\n",
       "      <td>200</td>\n",
       "      <td>200</td>\n",
       "      <td>200</td>\n",
       "      <td>200</td>\n",
       "    </tr>\n",
       "    <tr>\n",
       "      <th>uniques</th>\n",
       "      <td>190</td>\n",
       "      <td>167</td>\n",
       "      <td>172</td>\n",
       "      <td>121</td>\n",
       "    </tr>\n",
       "    <tr>\n",
       "      <th>missing</th>\n",
       "      <td>0</td>\n",
       "      <td>0</td>\n",
       "      <td>0</td>\n",
       "      <td>0</td>\n",
       "    </tr>\n",
       "    <tr>\n",
       "      <th>missing_perc</th>\n",
       "      <td>0%</td>\n",
       "      <td>0%</td>\n",
       "      <td>0%</td>\n",
       "      <td>0%</td>\n",
       "    </tr>\n",
       "    <tr>\n",
       "      <th>types</th>\n",
       "      <td>numeric</td>\n",
       "      <td>numeric</td>\n",
       "      <td>numeric</td>\n",
       "      <td>numeric</td>\n",
       "    </tr>\n",
       "  </tbody>\n",
       "</table>\n",
       "</div>"
      ],
      "text/plain": [
       "                     TV      Radio  Newspaper     Sales\n",
       "count             200.0      200.0      200.0     200.0\n",
       "mean           147.0425     23.264     30.554   14.0225\n",
       "std           85.854236  14.846809  21.778621  5.217457\n",
       "min                 0.7        0.0        0.3       1.6\n",
       "25%              74.375      9.975      12.75    10.375\n",
       "50%              149.75       22.9      25.75      12.9\n",
       "75%             218.825     36.525       45.1      17.4\n",
       "max               296.4       49.6      114.0      27.0\n",
       "counts              200        200        200       200\n",
       "uniques             190        167        172       121\n",
       "missing               0          0          0         0\n",
       "missing_perc         0%         0%         0%        0%\n",
       "types           numeric    numeric    numeric   numeric"
      ]
     },
     "execution_count": 11,
     "metadata": {},
     "output_type": "execute_result"
    }
   ],
   "source": [
    "\n",
    "dff.summary()"
   ]
  },
  {
   "cell_type": "markdown",
   "id": "1e0eac80",
   "metadata": {},
   "source": [
    "También podemos obtener información solo para columnas seleccionadas. Esto es útil si el conjunto de datos es grande y lleva mucho tiempo calcular la información de todas las columnas, o si queremos analizar solo algunas columnas en particular. "
   ]
  },
  {
   "cell_type": "code",
   "execution_count": 8,
   "id": "c88b924b",
   "metadata": {},
   "outputs": [
    {
     "data": {
      "text/plain": [
       "mean                             147.0425\n",
       "std                             85.854236\n",
       "variance                      7370.949893\n",
       "min                                   0.7\n",
       "max                                 296.4\n",
       "mode                                 17.2\n",
       "5%                                 13.195\n",
       "25%                                74.375\n",
       "50%                                149.75\n",
       "75%                               218.825\n",
       "95%                               280.735\n",
       "iqr                                144.45\n",
       "kurtosis                        -1.226495\n",
       "skewness                        -0.069853\n",
       "sum                               29408.5\n",
       "mad                              75.10465\n",
       "cv                               0.583874\n",
       "zeros_num                               0\n",
       "zeros_perc                             0%\n",
       "deviating_of_mean                       0\n",
       "deviating_of_mean_perc                 0%\n",
       "deviating_of_median                     0\n",
       "deviating_of_median_perc               0%\n",
       "top_correlations            Sales: 78.22%\n",
       "counts                                200\n",
       "uniques                               190\n",
       "missing                                 0\n",
       "missing_perc                           0%\n",
       "types                             numeric\n",
       "Name: TV, dtype: object"
      ]
     },
     "execution_count": 8,
     "metadata": {},
     "output_type": "execute_result"
    }
   ],
   "source": [
    "dff['TV']"
   ]
  },
  {
   "cell_type": "markdown",
   "id": "4bd7c5fa",
   "metadata": {},
   "source": [
    "By María Belén Camandone"
   ]
  }
 ],
 "metadata": {
  "kernelspec": {
   "display_name": "Python 3 (ipykernel)",
   "language": "python",
   "name": "python3"
  },
  "language_info": {
   "codemirror_mode": {
    "name": "ipython",
    "version": 3
   },
   "file_extension": ".py",
   "mimetype": "text/x-python",
   "name": "python",
   "nbconvert_exporter": "python",
   "pygments_lexer": "ipython3",
   "version": "3.9.13"
  }
 },
 "nbformat": 4,
 "nbformat_minor": 5
}
