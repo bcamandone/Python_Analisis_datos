{
 "cells": [
  {
   "cell_type": "markdown",
   "id": "8d9e989f",
   "metadata": {},
   "source": [
    "Preguntas a responder: \n",
    "\n",
    "- P: ¿Cuánto se ganó en 2019?\n",
    "- P: ¿Cuál fue el mejor mes para las ventas? ¿Cuánto se ganó ese mes?\n",
    "- P: ¿Qué ciudad tuvo el mayor número de ventas?\n",
    "- P: ¿A qué hora debemos mostrar publicidad para maximizar probabilidad de que el cliente compre el producto?\n",
    "- P: ¿Qué producto vendió más? ¿Por qué crees que vendió más?\n",
    "\n"
   ]
  },
  {
   "cell_type": "markdown",
   "id": "84a7cf89",
   "metadata": {},
   "source": [
    "Columnas\n",
    "\n",
    "Order ID: Cada pedido recibe su propio ID de pedido que no se duplicará. Este número puede ser útil para el vendedor cuando intenta averiguar ciertos detalles sobre un pedido, como la fecha o el estado del envío.\n",
    "Product: Producto vendido.\n",
    "Quantity ordered: la cantidad solicitada es la cantidad total de artículos solicitados en el pedido inicial (sin ningún cambio)\n",
    "Price Each: Precio de cada producto. \n",
    "Order Date: Esta es la fecha en que el cliente solicita que se envíe el pedido.\n",
    "Purchase Address: Dirección de compra"
   ]
  },
  {
   "cell_type": "markdown",
   "id": "a82d4eb0",
   "metadata": {},
   "source": [
    "Importar librerías "
   ]
  },
  {
   "cell_type": "code",
   "execution_count": 185,
   "id": "3227caed",
   "metadata": {},
   "outputs": [],
   "source": [
    "import pandas as pd\n",
    "import pandas as pd\n",
    "import numpy as np\n",
    "import seaborn as sns\n",
    "import matplotlib.pyplot as plt"
   ]
  },
  {
   "cell_type": "markdown",
   "id": "005a36ee",
   "metadata": {},
   "source": [
    "Importar los conjuntos de datos sin procesar"
   ]
  },
  {
   "cell_type": "code",
   "execution_count": 186,
   "id": "ae96a55e",
   "metadata": {},
   "outputs": [],
   "source": [
    "jan_data = pd.read_csv(\"Datasets/Sales_January_2019.csv\")\n",
    "feb_data = pd.read_csv(\"Datasets/Sales_February_2019.csv\")\n",
    "march_data = pd.read_csv(\"Datasets/Sales_March_2019.csv\")\n",
    "april_data = pd.read_csv(\"Datasets/Sales_April_2019.csv\")\n",
    "may_data = pd.read_csv(\"Datasets/Sales_May_2019.csv\")\n",
    "june_data = pd.read_csv(\"Datasets/Sales_June_2019.csv\")\n",
    "july_data = pd.read_csv(\"Datasets/Sales_July_2019.csv\")\n",
    "aug_data = pd.read_csv(\"Datasets/Sales_August_2019.csv\")\n",
    "sep_data = pd.read_csv(\"Datasets/Sales_September_2019.csv\")\n",
    "oct_data = pd.read_csv(\"Datasets/Sales_October_2019.csv\")\n",
    "nov_data = pd.read_csv(\"Datasets/Sales_November_2019.csv\")\n",
    "dec_data = pd.read_csv(\"Datasets/Sales_December_2019.csv\")\n",
    "\n"
   ]
  },
  {
   "cell_type": "markdown",
   "id": "775c1207",
   "metadata": {},
   "source": [
    "Unir todos los datasets\n"
   ]
  },
  {
   "cell_type": "code",
   "execution_count": 187,
   "id": "6d3b4ae3",
   "metadata": {},
   "outputs": [],
   "source": [
    "df = pd.concat([jan_data, feb_data, march_data, april_data, may_data,june_data,july_data,aug_data,\n",
    "               sep_data, oct_data, nov_data, dec_data])"
   ]
  },
  {
   "cell_type": "markdown",
   "id": "c8c8def7",
   "metadata": {},
   "source": [
    "Visualizamos las primeras 5 filas "
   ]
  },
  {
   "cell_type": "code",
   "execution_count": 188,
   "id": "2a745ac6",
   "metadata": {},
   "outputs": [
    {
     "data": {
      "text/html": [
       "<div>\n",
       "<style scoped>\n",
       "    .dataframe tbody tr th:only-of-type {\n",
       "        vertical-align: middle;\n",
       "    }\n",
       "\n",
       "    .dataframe tbody tr th {\n",
       "        vertical-align: top;\n",
       "    }\n",
       "\n",
       "    .dataframe thead th {\n",
       "        text-align: right;\n",
       "    }\n",
       "</style>\n",
       "<table border=\"1\" class=\"dataframe\">\n",
       "  <thead>\n",
       "    <tr style=\"text-align: right;\">\n",
       "      <th></th>\n",
       "      <th>Order ID</th>\n",
       "      <th>Product</th>\n",
       "      <th>Quantity Ordered</th>\n",
       "      <th>Price Each</th>\n",
       "      <th>Order Date</th>\n",
       "      <th>Purchase Address</th>\n",
       "    </tr>\n",
       "  </thead>\n",
       "  <tbody>\n",
       "    <tr>\n",
       "      <th>0</th>\n",
       "      <td>141234</td>\n",
       "      <td>iPhone</td>\n",
       "      <td>1</td>\n",
       "      <td>700</td>\n",
       "      <td>01/22/19 21:25</td>\n",
       "      <td>944 Walnut St, Boston, MA 02215</td>\n",
       "    </tr>\n",
       "    <tr>\n",
       "      <th>1</th>\n",
       "      <td>141235</td>\n",
       "      <td>Lightning Charging Cable</td>\n",
       "      <td>1</td>\n",
       "      <td>14.95</td>\n",
       "      <td>01/28/19 14:15</td>\n",
       "      <td>185 Maple St, Portland, OR 97035</td>\n",
       "    </tr>\n",
       "    <tr>\n",
       "      <th>2</th>\n",
       "      <td>141236</td>\n",
       "      <td>Wired Headphones</td>\n",
       "      <td>2</td>\n",
       "      <td>11.99</td>\n",
       "      <td>01/17/19 13:33</td>\n",
       "      <td>538 Adams St, San Francisco, CA 94016</td>\n",
       "    </tr>\n",
       "    <tr>\n",
       "      <th>3</th>\n",
       "      <td>141237</td>\n",
       "      <td>27in FHD Monitor</td>\n",
       "      <td>1</td>\n",
       "      <td>149.99</td>\n",
       "      <td>01/05/19 20:33</td>\n",
       "      <td>738 10th St, Los Angeles, CA 90001</td>\n",
       "    </tr>\n",
       "    <tr>\n",
       "      <th>4</th>\n",
       "      <td>141238</td>\n",
       "      <td>Wired Headphones</td>\n",
       "      <td>1</td>\n",
       "      <td>11.99</td>\n",
       "      <td>01/25/19 11:59</td>\n",
       "      <td>387 10th St, Austin, TX 73301</td>\n",
       "    </tr>\n",
       "  </tbody>\n",
       "</table>\n",
       "</div>"
      ],
      "text/plain": [
       "  Order ID                   Product Quantity Ordered Price Each  \\\n",
       "0   141234                    iPhone                1        700   \n",
       "1   141235  Lightning Charging Cable                1      14.95   \n",
       "2   141236          Wired Headphones                2      11.99   \n",
       "3   141237          27in FHD Monitor                1     149.99   \n",
       "4   141238          Wired Headphones                1      11.99   \n",
       "\n",
       "       Order Date                       Purchase Address  \n",
       "0  01/22/19 21:25        944 Walnut St, Boston, MA 02215  \n",
       "1  01/28/19 14:15       185 Maple St, Portland, OR 97035  \n",
       "2  01/17/19 13:33  538 Adams St, San Francisco, CA 94016  \n",
       "3  01/05/19 20:33     738 10th St, Los Angeles, CA 90001  \n",
       "4  01/25/19 11:59          387 10th St, Austin, TX 73301  "
      ]
     },
     "execution_count": 188,
     "metadata": {},
     "output_type": "execute_result"
    }
   ],
   "source": [
    "df.head(5)"
   ]
  },
  {
   "cell_type": "markdown",
   "id": "ae2bf24f",
   "metadata": {},
   "source": [
    "Visualizamos el tamaño del dataset"
   ]
  },
  {
   "cell_type": "code",
   "execution_count": 189,
   "id": "cf2664e2",
   "metadata": {},
   "outputs": [
    {
     "data": {
      "text/plain": [
       "(186850, 6)"
      ]
     },
     "execution_count": 189,
     "metadata": {},
     "output_type": "execute_result"
    }
   ],
   "source": [
    "df.shape"
   ]
  },
  {
   "cell_type": "markdown",
   "id": "203977b5",
   "metadata": {},
   "source": [
    "Chequeo de nulos"
   ]
  },
  {
   "cell_type": "code",
   "execution_count": 190,
   "id": "e1d2df00",
   "metadata": {},
   "outputs": [
    {
     "data": {
      "text/plain": [
       "Order ID            545\n",
       "Product             545\n",
       "Quantity Ordered    545\n",
       "Price Each          545\n",
       "Order Date          545\n",
       "Purchase Address    545\n",
       "dtype: int64"
      ]
     },
     "execution_count": 190,
     "metadata": {},
     "output_type": "execute_result"
    }
   ],
   "source": [
    "df.isnull().sum()"
   ]
  },
  {
   "cell_type": "markdown",
   "id": "bce1a88e",
   "metadata": {},
   "source": [
    "Eliminamos los nulos"
   ]
  },
  {
   "cell_type": "code",
   "execution_count": 191,
   "id": "7a4fb6d1",
   "metadata": {},
   "outputs": [],
   "source": [
    "df = df.dropna(how='all', inplace=False)"
   ]
  },
  {
   "cell_type": "code",
   "execution_count": 192,
   "id": "79712113",
   "metadata": {},
   "outputs": [
    {
     "data": {
      "text/plain": [
       "Order ID            0\n",
       "Product             0\n",
       "Quantity Ordered    0\n",
       "Price Each          0\n",
       "Order Date          0\n",
       "Purchase Address    0\n",
       "dtype: int64"
      ]
     },
     "execution_count": 192,
     "metadata": {},
     "output_type": "execute_result"
    }
   ],
   "source": [
    "df.isnull().sum()"
   ]
  },
  {
   "cell_type": "code",
   "execution_count": 193,
   "id": "ad7bce82",
   "metadata": {},
   "outputs": [
    {
     "data": {
      "text/plain": [
       "(186305, 6)"
      ]
     },
     "execution_count": 193,
     "metadata": {},
     "output_type": "execute_result"
    }
   ],
   "source": [
    "df.shape   # se eliminaron 545 filas correspondientes a los datos nulos "
   ]
  },
  {
   "cell_type": "markdown",
   "id": "c761655c",
   "metadata": {},
   "source": [
    "Visualizar el tipo de datos de la columnas"
   ]
  },
  {
   "cell_type": "code",
   "execution_count": 194,
   "id": "ced3bca1",
   "metadata": {},
   "outputs": [
    {
     "data": {
      "text/plain": [
       "Order ID            object\n",
       "Product             object\n",
       "Quantity Ordered    object\n",
       "Price Each          object\n",
       "Order Date          object\n",
       "Purchase Address    object\n",
       "dtype: object"
      ]
     },
     "execution_count": 194,
     "metadata": {},
     "output_type": "execute_result"
    }
   ],
   "source": [
    "df.dtypes"
   ]
  },
  {
   "cell_type": "markdown",
   "id": "8f6f79e6",
   "metadata": {},
   "source": [
    "Convertir el tipo de datos de las columnas "
   ]
  },
  {
   "cell_type": "code",
   "execution_count": 196,
   "id": "a1c230d0",
   "metadata": {},
   "outputs": [
    {
     "data": {
      "text/plain": [
       "array(['700', '14.95', '11.99', '149.99', '2.99', '389.99', '11.95',\n",
       "       '99.99', '150', '1700', '300', '400', '3.84', '600', '109.99',\n",
       "       '379.99', '999.99', '600.0', 'Price Each', '700.0', '150.0',\n",
       "       '300.0', '1700.0', '400.0'], dtype=object)"
      ]
     },
     "execution_count": 196,
     "metadata": {},
     "output_type": "execute_result"
    }
   ],
   "source": [
    "df['Price Each'].unique()"
   ]
  },
  {
   "cell_type": "markdown",
   "id": "f5f75fe1",
   "metadata": {},
   "source": [
    "La columna Price Each posee en algunas filas incorrecto el precio, se eliminan esas filas donde el precio es \"Price Each\""
   ]
  },
  {
   "cell_type": "code",
   "execution_count": 197,
   "id": "f3cd1b0a",
   "metadata": {},
   "outputs": [],
   "source": [
    "df = df.drop(df[df['Price Each']=='Price Each'].index)"
   ]
  },
  {
   "cell_type": "code",
   "execution_count": 198,
   "id": "125d2f30",
   "metadata": {},
   "outputs": [
    {
     "data": {
      "text/plain": [
       "array(['700', '14.95', '11.99', '149.99', '2.99', '389.99', '11.95',\n",
       "       '99.99', '150', '1700', '300', '400', '3.84', '600', '109.99',\n",
       "       '379.99', '999.99', '600.0', '700.0', '150.0', '300.0', '1700.0',\n",
       "       '400.0'], dtype=object)"
      ]
     },
     "execution_count": 198,
     "metadata": {},
     "output_type": "execute_result"
    }
   ],
   "source": [
    "df['Price Each'].unique()"
   ]
  },
  {
   "cell_type": "code",
   "execution_count": 195,
   "id": "626753cc",
   "metadata": {},
   "outputs": [
    {
     "data": {
      "text/plain": [
       "array(['1', '2', '3', '5', '4', '7', 'Quantity Ordered', '6', '9', '8'],\n",
       "      dtype=object)"
      ]
     },
     "execution_count": 195,
     "metadata": {},
     "output_type": "execute_result"
    }
   ],
   "source": [
    "df['Quantity Ordered'].unique()"
   ]
  },
  {
   "cell_type": "markdown",
   "id": "411b3149",
   "metadata": {},
   "source": [
    "La columna Quantity Ordered posee en algunas filas incorrecta la cantidad, se eliminan esas filas donde la cantidad es \"Quantity Ordered\""
   ]
  },
  {
   "cell_type": "code",
   "execution_count": 199,
   "id": "24a36958",
   "metadata": {},
   "outputs": [],
   "source": [
    "df = df.drop(df[df['Quantity Ordered']=='Quantity Ordered'].index)"
   ]
  },
  {
   "cell_type": "code",
   "execution_count": 200,
   "id": "4df5a30f",
   "metadata": {},
   "outputs": [
    {
     "data": {
      "text/plain": [
       "array(['1', '2', '3', '5', '4', '7', '6', '9', '8'], dtype=object)"
      ]
     },
     "execution_count": 200,
     "metadata": {},
     "output_type": "execute_result"
    }
   ],
   "source": [
    "df['Quantity Ordered'].unique()"
   ]
  },
  {
   "cell_type": "code",
   "execution_count": 201,
   "id": "6c97a330",
   "metadata": {},
   "outputs": [],
   "source": [
    "df['Quantity Ordered'] = pd.to_numeric(df['Quantity Ordered']).astype(int)\n",
    "df['Price Each'] = pd.to_numeric(df['Price Each']).astype(float)\n",
    "df['Order Date'] = pd.to_datetime(df['Order Date'])"
   ]
  },
  {
   "cell_type": "code",
   "execution_count": 202,
   "id": "68a75d5d",
   "metadata": {},
   "outputs": [
    {
     "data": {
      "text/plain": [
       "Order ID                    object\n",
       "Product                     object\n",
       "Quantity Ordered             int32\n",
       "Price Each                 float64\n",
       "Order Date          datetime64[ns]\n",
       "Purchase Address            object\n",
       "dtype: object"
      ]
     },
     "execution_count": 202,
     "metadata": {},
     "output_type": "execute_result"
    }
   ],
   "source": [
    "df.dtypes"
   ]
  },
  {
   "cell_type": "markdown",
   "id": "7f11a157",
   "metadata": {},
   "source": [
    "Obtener la ubicación y el estado "
   ]
  },
  {
   "cell_type": "code",
   "execution_count": 203,
   "id": "a1c6fe63",
   "metadata": {},
   "outputs": [],
   "source": [
    "df[\"Consumer_Primary_Location\"] = df['Purchase Address'].apply(lambda x: x.split(',')[0])\n"
   ]
  },
  {
   "cell_type": "code",
   "execution_count": 204,
   "id": "e7f8e062",
   "metadata": {},
   "outputs": [
    {
     "data": {
      "text/html": [
       "<div>\n",
       "<style scoped>\n",
       "    .dataframe tbody tr th:only-of-type {\n",
       "        vertical-align: middle;\n",
       "    }\n",
       "\n",
       "    .dataframe tbody tr th {\n",
       "        vertical-align: top;\n",
       "    }\n",
       "\n",
       "    .dataframe thead th {\n",
       "        text-align: right;\n",
       "    }\n",
       "</style>\n",
       "<table border=\"1\" class=\"dataframe\">\n",
       "  <thead>\n",
       "    <tr style=\"text-align: right;\">\n",
       "      <th></th>\n",
       "      <th>Order ID</th>\n",
       "      <th>Product</th>\n",
       "      <th>Quantity Ordered</th>\n",
       "      <th>Price Each</th>\n",
       "      <th>Order Date</th>\n",
       "      <th>Purchase Address</th>\n",
       "      <th>Consumer_Primary_Location</th>\n",
       "    </tr>\n",
       "  </thead>\n",
       "  <tbody>\n",
       "    <tr>\n",
       "      <th>0</th>\n",
       "      <td>141234</td>\n",
       "      <td>iPhone</td>\n",
       "      <td>1</td>\n",
       "      <td>700.00</td>\n",
       "      <td>2019-01-22 21:25:00</td>\n",
       "      <td>944 Walnut St, Boston, MA 02215</td>\n",
       "      <td>944 Walnut St</td>\n",
       "    </tr>\n",
       "    <tr>\n",
       "      <th>1</th>\n",
       "      <td>141235</td>\n",
       "      <td>Lightning Charging Cable</td>\n",
       "      <td>1</td>\n",
       "      <td>14.95</td>\n",
       "      <td>2019-01-28 14:15:00</td>\n",
       "      <td>185 Maple St, Portland, OR 97035</td>\n",
       "      <td>185 Maple St</td>\n",
       "    </tr>\n",
       "  </tbody>\n",
       "</table>\n",
       "</div>"
      ],
      "text/plain": [
       "  Order ID                   Product  Quantity Ordered  Price Each  \\\n",
       "0   141234                    iPhone                 1      700.00   \n",
       "1   141235  Lightning Charging Cable                 1       14.95   \n",
       "\n",
       "           Order Date                  Purchase Address  \\\n",
       "0 2019-01-22 21:25:00   944 Walnut St, Boston, MA 02215   \n",
       "1 2019-01-28 14:15:00  185 Maple St, Portland, OR 97035   \n",
       "\n",
       "  Consumer_Primary_Location  \n",
       "0             944 Walnut St  \n",
       "1              185 Maple St  "
      ]
     },
     "execution_count": 204,
     "metadata": {},
     "output_type": "execute_result"
    }
   ],
   "source": [
    "df.head(2)"
   ]
  },
  {
   "cell_type": "code",
   "execution_count": 205,
   "id": "5fa6ee54",
   "metadata": {},
   "outputs": [],
   "source": [
    "df[\"Consumer_State\"] =  df['Purchase Address'].apply(lambda x: x.split(',')[1])"
   ]
  },
  {
   "cell_type": "code",
   "execution_count": 206,
   "id": "03acf1a0",
   "metadata": {},
   "outputs": [
    {
     "data": {
      "text/html": [
       "<div>\n",
       "<style scoped>\n",
       "    .dataframe tbody tr th:only-of-type {\n",
       "        vertical-align: middle;\n",
       "    }\n",
       "\n",
       "    .dataframe tbody tr th {\n",
       "        vertical-align: top;\n",
       "    }\n",
       "\n",
       "    .dataframe thead th {\n",
       "        text-align: right;\n",
       "    }\n",
       "</style>\n",
       "<table border=\"1\" class=\"dataframe\">\n",
       "  <thead>\n",
       "    <tr style=\"text-align: right;\">\n",
       "      <th></th>\n",
       "      <th>Order ID</th>\n",
       "      <th>Product</th>\n",
       "      <th>Quantity Ordered</th>\n",
       "      <th>Price Each</th>\n",
       "      <th>Order Date</th>\n",
       "      <th>Purchase Address</th>\n",
       "      <th>Consumer_Primary_Location</th>\n",
       "      <th>Consumer_State</th>\n",
       "    </tr>\n",
       "  </thead>\n",
       "  <tbody>\n",
       "    <tr>\n",
       "      <th>0</th>\n",
       "      <td>141234</td>\n",
       "      <td>iPhone</td>\n",
       "      <td>1</td>\n",
       "      <td>700.00</td>\n",
       "      <td>2019-01-22 21:25:00</td>\n",
       "      <td>944 Walnut St, Boston, MA 02215</td>\n",
       "      <td>944 Walnut St</td>\n",
       "      <td>Boston</td>\n",
       "    </tr>\n",
       "    <tr>\n",
       "      <th>1</th>\n",
       "      <td>141235</td>\n",
       "      <td>Lightning Charging Cable</td>\n",
       "      <td>1</td>\n",
       "      <td>14.95</td>\n",
       "      <td>2019-01-28 14:15:00</td>\n",
       "      <td>185 Maple St, Portland, OR 97035</td>\n",
       "      <td>185 Maple St</td>\n",
       "      <td>Portland</td>\n",
       "    </tr>\n",
       "  </tbody>\n",
       "</table>\n",
       "</div>"
      ],
      "text/plain": [
       "  Order ID                   Product  Quantity Ordered  Price Each  \\\n",
       "0   141234                    iPhone                 1      700.00   \n",
       "1   141235  Lightning Charging Cable                 1       14.95   \n",
       "\n",
       "           Order Date                  Purchase Address  \\\n",
       "0 2019-01-22 21:25:00   944 Walnut St, Boston, MA 02215   \n",
       "1 2019-01-28 14:15:00  185 Maple St, Portland, OR 97035   \n",
       "\n",
       "  Consumer_Primary_Location Consumer_State  \n",
       "0             944 Walnut St         Boston  \n",
       "1              185 Maple St       Portland  "
      ]
     },
     "execution_count": 206,
     "metadata": {},
     "output_type": "execute_result"
    }
   ],
   "source": [
    "df.head(2)"
   ]
  },
  {
   "cell_type": "markdown",
   "id": "90d7c806",
   "metadata": {},
   "source": [
    "Obtenemos el mes del pedido "
   ]
  },
  {
   "cell_type": "code",
   "execution_count": 207,
   "id": "e08f7b81",
   "metadata": {},
   "outputs": [],
   "source": [
    "df['Month'] = df['Order Date'].dt.month"
   ]
  },
  {
   "cell_type": "code",
   "execution_count": 208,
   "id": "dd8a8e28",
   "metadata": {},
   "outputs": [
    {
     "data": {
      "text/html": [
       "<div>\n",
       "<style scoped>\n",
       "    .dataframe tbody tr th:only-of-type {\n",
       "        vertical-align: middle;\n",
       "    }\n",
       "\n",
       "    .dataframe tbody tr th {\n",
       "        vertical-align: top;\n",
       "    }\n",
       "\n",
       "    .dataframe thead th {\n",
       "        text-align: right;\n",
       "    }\n",
       "</style>\n",
       "<table border=\"1\" class=\"dataframe\">\n",
       "  <thead>\n",
       "    <tr style=\"text-align: right;\">\n",
       "      <th></th>\n",
       "      <th>Order ID</th>\n",
       "      <th>Product</th>\n",
       "      <th>Quantity Ordered</th>\n",
       "      <th>Price Each</th>\n",
       "      <th>Order Date</th>\n",
       "      <th>Purchase Address</th>\n",
       "      <th>Consumer_Primary_Location</th>\n",
       "      <th>Consumer_State</th>\n",
       "      <th>Month</th>\n",
       "    </tr>\n",
       "  </thead>\n",
       "  <tbody>\n",
       "    <tr>\n",
       "      <th>0</th>\n",
       "      <td>141234</td>\n",
       "      <td>iPhone</td>\n",
       "      <td>1</td>\n",
       "      <td>700.00</td>\n",
       "      <td>2019-01-22 21:25:00</td>\n",
       "      <td>944 Walnut St, Boston, MA 02215</td>\n",
       "      <td>944 Walnut St</td>\n",
       "      <td>Boston</td>\n",
       "      <td>1</td>\n",
       "    </tr>\n",
       "    <tr>\n",
       "      <th>1</th>\n",
       "      <td>141235</td>\n",
       "      <td>Lightning Charging Cable</td>\n",
       "      <td>1</td>\n",
       "      <td>14.95</td>\n",
       "      <td>2019-01-28 14:15:00</td>\n",
       "      <td>185 Maple St, Portland, OR 97035</td>\n",
       "      <td>185 Maple St</td>\n",
       "      <td>Portland</td>\n",
       "      <td>1</td>\n",
       "    </tr>\n",
       "  </tbody>\n",
       "</table>\n",
       "</div>"
      ],
      "text/plain": [
       "  Order ID                   Product  Quantity Ordered  Price Each  \\\n",
       "0   141234                    iPhone                 1      700.00   \n",
       "1   141235  Lightning Charging Cable                 1       14.95   \n",
       "\n",
       "           Order Date                  Purchase Address  \\\n",
       "0 2019-01-22 21:25:00   944 Walnut St, Boston, MA 02215   \n",
       "1 2019-01-28 14:15:00  185 Maple St, Portland, OR 97035   \n",
       "\n",
       "  Consumer_Primary_Location Consumer_State  Month  \n",
       "0             944 Walnut St         Boston      1  \n",
       "1              185 Maple St       Portland      1  "
      ]
     },
     "execution_count": 208,
     "metadata": {},
     "output_type": "execute_result"
    }
   ],
   "source": [
    "df.head(2)"
   ]
  },
  {
   "cell_type": "markdown",
   "id": "61cf3080",
   "metadata": {},
   "source": [
    "Obtenemos la hora de los pedidos "
   ]
  },
  {
   "cell_type": "code",
   "execution_count": 209,
   "id": "36d813d0",
   "metadata": {},
   "outputs": [],
   "source": [
    "df['time'] = df['Order Date'].dt.hour"
   ]
  },
  {
   "cell_type": "code",
   "execution_count": 210,
   "id": "59c53a71",
   "metadata": {},
   "outputs": [
    {
     "data": {
      "text/plain": [
       "0    21\n",
       "1    14\n",
       "2    13\n",
       "3    20\n",
       "4    11\n",
       "Name: time, dtype: int64"
      ]
     },
     "execution_count": 210,
     "metadata": {},
     "output_type": "execute_result"
    }
   ],
   "source": [
    "df['time'].head(5)"
   ]
  },
  {
   "cell_type": "markdown",
   "id": "4d7be4e7",
   "metadata": {},
   "source": [
    "P: ¿Cuánto se ganó en 2019?"
   ]
  },
  {
   "cell_type": "code",
   "execution_count": 211,
   "id": "3b7ea968",
   "metadata": {},
   "outputs": [],
   "source": [
    "ganancias = round((df['Quantity Ordered'] * df['Price Each']).sum(),2)"
   ]
  },
  {
   "cell_type": "code",
   "execution_count": 212,
   "id": "6dd4d260",
   "metadata": {},
   "outputs": [
    {
     "data": {
      "text/plain": [
       "33879779.77"
      ]
     },
     "execution_count": 212,
     "metadata": {},
     "output_type": "execute_result"
    }
   ],
   "source": [
    "ganancias"
   ]
  },
  {
   "cell_type": "markdown",
   "id": "da415e7c",
   "metadata": {},
   "source": [
    "En el año 2019 se obtuvo una ganancia de $ 33.879.779,77"
   ]
  },
  {
   "cell_type": "markdown",
   "id": "b2cfce4c",
   "metadata": {},
   "source": [
    "- P: ¿Cuál fue el mejor mes para las ventas? ¿Cuánto se ganó ese mes?"
   ]
  },
  {
   "cell_type": "code",
   "execution_count": 215,
   "id": "3c2a6457",
   "metadata": {},
   "outputs": [],
   "source": [
    "df['Revenue'] = df['Quantity Ordered'] * df['Price Each']"
   ]
  },
  {
   "cell_type": "code",
   "execution_count": 216,
   "id": "c3da4412",
   "metadata": {},
   "outputs": [],
   "source": [
    "ganancia_mes = df[['Revenue','Month']].groupby('Month').sum().reset_index()"
   ]
  },
  {
   "cell_type": "code",
   "execution_count": 217,
   "id": "2cda5e68",
   "metadata": {},
   "outputs": [],
   "source": [
    "ganancia_mes = ganancia_mes.sort_values('Revenue', ascending = False)"
   ]
  },
  {
   "cell_type": "code",
   "execution_count": 218,
   "id": "60c9187b",
   "metadata": {},
   "outputs": [
    {
     "data": {
      "text/html": [
       "<div>\n",
       "<style scoped>\n",
       "    .dataframe tbody tr th:only-of-type {\n",
       "        vertical-align: middle;\n",
       "    }\n",
       "\n",
       "    .dataframe tbody tr th {\n",
       "        vertical-align: top;\n",
       "    }\n",
       "\n",
       "    .dataframe thead th {\n",
       "        text-align: right;\n",
       "    }\n",
       "</style>\n",
       "<table border=\"1\" class=\"dataframe\">\n",
       "  <thead>\n",
       "    <tr style=\"text-align: right;\">\n",
       "      <th></th>\n",
       "      <th>Month</th>\n",
       "      <th>Revenue</th>\n",
       "    </tr>\n",
       "  </thead>\n",
       "  <tbody>\n",
       "    <tr>\n",
       "      <th>11</th>\n",
       "      <td>12</td>\n",
       "      <td>4557905.42</td>\n",
       "    </tr>\n",
       "    <tr>\n",
       "      <th>9</th>\n",
       "      <td>10</td>\n",
       "      <td>3679254.16</td>\n",
       "    </tr>\n",
       "    <tr>\n",
       "      <th>3</th>\n",
       "      <td>4</td>\n",
       "      <td>3336376.42</td>\n",
       "    </tr>\n",
       "    <tr>\n",
       "      <th>10</th>\n",
       "      <td>11</td>\n",
       "      <td>3149785.09</td>\n",
       "    </tr>\n",
       "    <tr>\n",
       "      <th>4</th>\n",
       "      <td>5</td>\n",
       "      <td>3101881.04</td>\n",
       "    </tr>\n",
       "    <tr>\n",
       "      <th>2</th>\n",
       "      <td>3</td>\n",
       "      <td>2755969.40</td>\n",
       "    </tr>\n",
       "    <tr>\n",
       "      <th>6</th>\n",
       "      <td>7</td>\n",
       "      <td>2587444.91</td>\n",
       "    </tr>\n",
       "    <tr>\n",
       "      <th>5</th>\n",
       "      <td>6</td>\n",
       "      <td>2524464.99</td>\n",
       "    </tr>\n",
       "    <tr>\n",
       "      <th>7</th>\n",
       "      <td>8</td>\n",
       "      <td>2191698.31</td>\n",
       "    </tr>\n",
       "    <tr>\n",
       "      <th>1</th>\n",
       "      <td>2</td>\n",
       "      <td>2158127.48</td>\n",
       "    </tr>\n",
       "    <tr>\n",
       "      <th>8</th>\n",
       "      <td>9</td>\n",
       "      <td>2050361.26</td>\n",
       "    </tr>\n",
       "    <tr>\n",
       "      <th>0</th>\n",
       "      <td>1</td>\n",
       "      <td>1786511.29</td>\n",
       "    </tr>\n",
       "  </tbody>\n",
       "</table>\n",
       "</div>"
      ],
      "text/plain": [
       "    Month     Revenue\n",
       "11     12  4557905.42\n",
       "9      10  3679254.16\n",
       "3       4  3336376.42\n",
       "10     11  3149785.09\n",
       "4       5  3101881.04\n",
       "2       3  2755969.40\n",
       "6       7  2587444.91\n",
       "5       6  2524464.99\n",
       "7       8  2191698.31\n",
       "1       2  2158127.48\n",
       "8       9  2050361.26\n",
       "0       1  1786511.29"
      ]
     },
     "execution_count": 218,
     "metadata": {},
     "output_type": "execute_result"
    }
   ],
   "source": [
    "df_ganancias = pd.DataFrame(ganancia_mes)\n",
    "df_ganancias"
   ]
  },
  {
   "cell_type": "code",
   "execution_count": 219,
   "id": "03b580cd",
   "metadata": {},
   "outputs": [],
   "source": [
    "df_ganancias.index = df_ganancias['Month']\n",
    "df_ganancias = df_ganancias.drop('Month', axis='columns')\n"
   ]
  },
  {
   "cell_type": "code",
   "execution_count": 220,
   "id": "5ae15fb9",
   "metadata": {},
   "outputs": [
    {
     "data": {
      "text/plain": [
       "Month\n",
       "12    4557905.42\n",
       "10    3679254.16\n",
       "4     3336376.42\n",
       "11    3149785.09\n",
       "5     3101881.04\n",
       "3     2755969.40\n",
       "7     2587444.91\n",
       "6     2524464.99\n",
       "8     2191698.31\n",
       "2     2158127.48\n",
       "9     2050361.26\n",
       "1     1786511.29\n",
       "Name: Revenue, dtype: float64"
      ]
     },
     "execution_count": 220,
     "metadata": {},
     "output_type": "execute_result"
    }
   ],
   "source": [
    "x = df_ganancias.index\n",
    "y = df_ganancias['Revenue']\n",
    "y"
   ]
  },
  {
   "cell_type": "code",
   "execution_count": 221,
   "id": "843230a9",
   "metadata": {},
   "outputs": [
    {
     "data": {
      "text/plain": [
       "Text(0.5, 1.0, 'Ganancias por mes')"
      ]
     },
     "execution_count": 221,
     "metadata": {},
     "output_type": "execute_result"
    },
    {
     "data": {
      "image/png": "[encoded data removed]",
      "text/plain": [
       "<Figure size 864x288 with 1 Axes>"
      ]
     },
     "metadata": {
      "needs_background": "light"
     },
     "output_type": "display_data"
    }
   ],
   "source": [
    "fig, ax = plt.subplots(figsize=(12, 4))\n",
    "ax.bar(x, y)\n",
    "ax.set_xlabel('Mes')                  \n",
    "ax.set_ylabel('Ganancias')\n",
    "ax.set_title('Ganancias por mes')\n"
   ]
  },
  {
   "cell_type": "markdown",
   "id": "330dffc9",
   "metadata": {},
   "source": [
    "El mes con mejores ventas es Diciembre, con un total de $ 4.557.905,42"
   ]
  },
  {
   "cell_type": "markdown",
   "id": "25f60c67",
   "metadata": {},
   "source": [
    "- P: ¿Qué ciudad tuvo el mayor número de ventas?"
   ]
  },
  {
   "cell_type": "code",
   "execution_count": 222,
   "id": "40a0640f",
   "metadata": {},
   "outputs": [],
   "source": [
    "ganancia_ciudades = df[['Revenue','Consumer_State']].groupby('Consumer_State').sum().reset_index() "
   ]
  },
  {
   "cell_type": "code",
   "execution_count": 223,
   "id": "237792db",
   "metadata": {},
   "outputs": [],
   "source": [
    "ganancia_ciudades = ganancia_ciudades.sort_values('Revenue', ascending = False)"
   ]
  },
  {
   "cell_type": "code",
   "execution_count": 224,
   "id": "d2f6aafa",
   "metadata": {},
   "outputs": [
    {
     "data": {
      "image/png": "[encoded data removed]",
      "text/plain": [
       "<Figure size 432x288 with 1 Axes>"
      ]
     },
     "metadata": {
      "needs_background": "light"
     },
     "output_type": "display_data"
    }
   ],
   "source": [
    "plt_1 = sns.barplot(x=ganancia_ciudades['Consumer_State'], y=ganancia_ciudades['Revenue'])\n",
    "\n",
    "for item in plt_1.get_xticklabels():\n",
    "    item.set_rotation(90)\n"
   ]
  },
  {
   "cell_type": "code",
   "execution_count": 225,
   "id": "ef609cc5",
   "metadata": {},
   "outputs": [
    {
     "data": {
      "text/html": [
       "<div>\n",
       "<style scoped>\n",
       "    .dataframe tbody tr th:only-of-type {\n",
       "        vertical-align: middle;\n",
       "    }\n",
       "\n",
       "    .dataframe tbody tr th {\n",
       "        vertical-align: top;\n",
       "    }\n",
       "\n",
       "    .dataframe thead th {\n",
       "        text-align: right;\n",
       "    }\n",
       "</style>\n",
       "<table border=\"1\" class=\"dataframe\">\n",
       "  <thead>\n",
       "    <tr style=\"text-align: right;\">\n",
       "      <th></th>\n",
       "      <th>Consumer_State</th>\n",
       "      <th>Revenue</th>\n",
       "    </tr>\n",
       "  </thead>\n",
       "  <tbody>\n",
       "    <tr>\n",
       "      <th>7</th>\n",
       "      <td>San Francisco</td>\n",
       "      <td>8124120.94</td>\n",
       "    </tr>\n",
       "    <tr>\n",
       "      <th>4</th>\n",
       "      <td>Los Angeles</td>\n",
       "      <td>5354039.93</td>\n",
       "    </tr>\n",
       "    <tr>\n",
       "      <th>5</th>\n",
       "      <td>New York City</td>\n",
       "      <td>4581658.91</td>\n",
       "    </tr>\n",
       "    <tr>\n",
       "      <th>2</th>\n",
       "      <td>Boston</td>\n",
       "      <td>3604080.86</td>\n",
       "    </tr>\n",
       "    <tr>\n",
       "      <th>0</th>\n",
       "      <td>Atlanta</td>\n",
       "      <td>2741642.05</td>\n",
       "    </tr>\n",
       "    <tr>\n",
       "      <th>3</th>\n",
       "      <td>Dallas</td>\n",
       "      <td>2717793.72</td>\n",
       "    </tr>\n",
       "    <tr>\n",
       "      <th>8</th>\n",
       "      <td>Seattle</td>\n",
       "      <td>2693048.60</td>\n",
       "    </tr>\n",
       "    <tr>\n",
       "      <th>6</th>\n",
       "      <td>Portland</td>\n",
       "      <td>2276649.24</td>\n",
       "    </tr>\n",
       "    <tr>\n",
       "      <th>1</th>\n",
       "      <td>Austin</td>\n",
       "      <td>1786745.52</td>\n",
       "    </tr>\n",
       "  </tbody>\n",
       "</table>\n",
       "</div>"
      ],
      "text/plain": [
       "   Consumer_State     Revenue\n",
       "7   San Francisco  8124120.94\n",
       "4     Los Angeles  5354039.93\n",
       "5   New York City  4581658.91\n",
       "2          Boston  3604080.86\n",
       "0         Atlanta  2741642.05\n",
       "3          Dallas  2717793.72\n",
       "8         Seattle  2693048.60\n",
       "6        Portland  2276649.24\n",
       "1          Austin  1786745.52"
      ]
     },
     "execution_count": 225,
     "metadata": {},
     "output_type": "execute_result"
    }
   ],
   "source": [
    "ganancia_ciudades "
   ]
  },
  {
   "cell_type": "markdown",
   "id": "f91500c5",
   "metadata": {},
   "source": [
    "La ciudad con el mayor número de ventas es San Francisco"
   ]
  },
  {
   "cell_type": "markdown",
   "id": "28c73869",
   "metadata": {},
   "source": [
    "P: ¿A qué hora debemos mostrar publicidad para maximizar la probabilidad de que el cliente compre el producto?"
   ]
  },
  {
   "cell_type": "code",
   "execution_count": 226,
   "id": "3c83928f",
   "metadata": {},
   "outputs": [],
   "source": [
    "ganancia_hora = df[['Revenue','time']].groupby('time').sum().reset_index()"
   ]
  },
  {
   "cell_type": "code",
   "execution_count": 227,
   "id": "8aa4c0e5",
   "metadata": {},
   "outputs": [],
   "source": [
    "ganancia_hora = ganancia_hora.sort_values('Revenue', ascending = False)"
   ]
  },
  {
   "cell_type": "code",
   "execution_count": 228,
   "id": "d410f112",
   "metadata": {},
   "outputs": [],
   "source": [
    "ganancia_hora.index = ganancia_hora['time']\n",
    "ganancia_hora = ganancia_hora.drop('time', axis='columns')\n"
   ]
  },
  {
   "cell_type": "code",
   "execution_count": 229,
   "id": "ceadd9d8",
   "metadata": {},
   "outputs": [],
   "source": [
    "x = ganancia_hora.index\n",
    "y = ganancia_hora['Revenue']"
   ]
  },
  {
   "cell_type": "code",
   "execution_count": 230,
   "id": "5b5ce71c",
   "metadata": {},
   "outputs": [
    {
     "data": {
      "text/plain": [
       "Text(0.5, 1.0, 'Ganancia por hora')"
      ]
     },
     "execution_count": 230,
     "metadata": {},
     "output_type": "execute_result"
    },
    {
     "data": {
      "image/png": "[encoded data removed]",
      "text/plain": [
       "<Figure size 864x432 with 1 Axes>"
      ]
     },
     "metadata": {
      "needs_background": "light"
     },
     "output_type": "display_data"
    }
   ],
   "source": [
    "fig, ax = plt.subplots(figsize=(12, 6))\n",
    "ax.bar(x, y)\n",
    "ax.set_xlabel('Hora')                  \n",
    "ax.set_ylabel('Ganancias')\n",
    "ax.set_title('Ganancia por hora')\n"
   ]
  },
  {
   "cell_type": "code",
   "execution_count": 231,
   "id": "7f4b7a18",
   "metadata": {},
   "outputs": [
    {
     "data": {
      "text/html": [
       "<div>\n",
       "<style scoped>\n",
       "    .dataframe tbody tr th:only-of-type {\n",
       "        vertical-align: middle;\n",
       "    }\n",
       "\n",
       "    .dataframe tbody tr th {\n",
       "        vertical-align: top;\n",
       "    }\n",
       "\n",
       "    .dataframe thead th {\n",
       "        text-align: right;\n",
       "    }\n",
       "</style>\n",
       "<table border=\"1\" class=\"dataframe\">\n",
       "  <thead>\n",
       "    <tr style=\"text-align: right;\">\n",
       "      <th></th>\n",
       "      <th>Revenue</th>\n",
       "    </tr>\n",
       "    <tr>\n",
       "      <th>time</th>\n",
       "      <th></th>\n",
       "    </tr>\n",
       "  </thead>\n",
       "  <tbody>\n",
       "    <tr>\n",
       "      <th>19</th>\n",
       "      <td>2370005.59</td>\n",
       "    </tr>\n",
       "    <tr>\n",
       "      <th>12</th>\n",
       "      <td>2269676.91</td>\n",
       "    </tr>\n",
       "    <tr>\n",
       "      <th>11</th>\n",
       "      <td>2267169.73</td>\n",
       "    </tr>\n",
       "    <tr>\n",
       "      <th>20</th>\n",
       "      <td>2242856.37</td>\n",
       "    </tr>\n",
       "    <tr>\n",
       "      <th>18</th>\n",
       "      <td>2176209.65</td>\n",
       "    </tr>\n",
       "  </tbody>\n",
       "</table>\n",
       "</div>"
      ],
      "text/plain": [
       "         Revenue\n",
       "time            \n",
       "19    2370005.59\n",
       "12    2269676.91\n",
       "11    2267169.73\n",
       "20    2242856.37\n",
       "18    2176209.65"
      ]
     },
     "execution_count": 231,
     "metadata": {},
     "output_type": "execute_result"
    }
   ],
   "source": [
    "ganancia_hora.head(5)"
   ]
  },
  {
   "cell_type": "markdown",
   "id": "8a9f9770",
   "metadata": {},
   "source": [
    "Debemos mostrar publicidad alas 19hs para maximizar la probabilidad de que el cliente compre el producto."
   ]
  },
  {
   "cell_type": "markdown",
   "id": "29dc38a8",
   "metadata": {},
   "source": [
    "- P: ¿Qué producto vendió más? ¿Por qué crees que vendió más?"
   ]
  },
  {
   "cell_type": "code",
   "execution_count": 254,
   "id": "ec52a472",
   "metadata": {},
   "outputs": [],
   "source": [
    "productos = df[['Quantity Ordered','Product']].groupby('Product').sum().reset_index()"
   ]
  },
  {
   "cell_type": "code",
   "execution_count": 255,
   "id": "18b5e948",
   "metadata": {},
   "outputs": [],
   "source": [
    "productos = productos.sort_values('Quantity Ordered', ascending = False)"
   ]
  },
  {
   "cell_type": "code",
   "execution_count": 256,
   "id": "b981f7cf",
   "metadata": {},
   "outputs": [],
   "source": [
    "productos= productos.rename(columns = {'Quantity Ordered': 'Quantity'})"
   ]
  },
  {
   "cell_type": "code",
   "execution_count": 257,
   "id": "657644c8",
   "metadata": {},
   "outputs": [
    {
     "data": {
      "text/html": [
       "<div>\n",
       "<style scoped>\n",
       "    .dataframe tbody tr th:only-of-type {\n",
       "        vertical-align: middle;\n",
       "    }\n",
       "\n",
       "    .dataframe tbody tr th {\n",
       "        vertical-align: top;\n",
       "    }\n",
       "\n",
       "    .dataframe thead th {\n",
       "        text-align: right;\n",
       "    }\n",
       "</style>\n",
       "<table border=\"1\" class=\"dataframe\">\n",
       "  <thead>\n",
       "    <tr style=\"text-align: right;\">\n",
       "      <th></th>\n",
       "      <th>Product</th>\n",
       "      <th>Quantity</th>\n",
       "    </tr>\n",
       "  </thead>\n",
       "  <tbody>\n",
       "    <tr>\n",
       "      <th>5</th>\n",
       "      <td>AAA Batteries (4-pack)</td>\n",
       "      <td>30487</td>\n",
       "    </tr>\n",
       "    <tr>\n",
       "      <th>4</th>\n",
       "      <td>AA Batteries (4-pack)</td>\n",
       "      <td>27148</td>\n",
       "    </tr>\n",
       "    <tr>\n",
       "      <th>15</th>\n",
       "      <td>USB-C Charging Cable</td>\n",
       "      <td>23555</td>\n",
       "    </tr>\n",
       "    <tr>\n",
       "      <th>12</th>\n",
       "      <td>Lightning Charging Cable</td>\n",
       "      <td>22841</td>\n",
       "    </tr>\n",
       "    <tr>\n",
       "      <th>17</th>\n",
       "      <td>Wired Headphones</td>\n",
       "      <td>20201</td>\n",
       "    </tr>\n",
       "    <tr>\n",
       "      <th>6</th>\n",
       "      <td>Apple Airpods Headphones</td>\n",
       "      <td>15383</td>\n",
       "    </tr>\n",
       "    <tr>\n",
       "      <th>7</th>\n",
       "      <td>Bose SoundSport Headphones</td>\n",
       "      <td>13236</td>\n",
       "    </tr>\n",
       "    <tr>\n",
       "      <th>2</th>\n",
       "      <td>27in FHD Monitor</td>\n",
       "      <td>7429</td>\n",
       "    </tr>\n",
       "    <tr>\n",
       "      <th>18</th>\n",
       "      <td>iPhone</td>\n",
       "      <td>6732</td>\n",
       "    </tr>\n",
       "    <tr>\n",
       "      <th>1</th>\n",
       "      <td>27in 4K Gaming Monitor</td>\n",
       "      <td>6134</td>\n",
       "    </tr>\n",
       "    <tr>\n",
       "      <th>3</th>\n",
       "      <td>34in Ultrawide Monitor</td>\n",
       "      <td>6076</td>\n",
       "    </tr>\n",
       "    <tr>\n",
       "      <th>9</th>\n",
       "      <td>Google Phone</td>\n",
       "      <td>5440</td>\n",
       "    </tr>\n",
       "    <tr>\n",
       "      <th>8</th>\n",
       "      <td>Flatscreen TV</td>\n",
       "      <td>4724</td>\n",
       "    </tr>\n",
       "    <tr>\n",
       "      <th>13</th>\n",
       "      <td>Macbook Pro Laptop</td>\n",
       "      <td>4645</td>\n",
       "    </tr>\n",
       "    <tr>\n",
       "      <th>0</th>\n",
       "      <td>20in Monitor</td>\n",
       "      <td>4058</td>\n",
       "    </tr>\n",
       "    <tr>\n",
       "      <th>14</th>\n",
       "      <td>ThinkPad Laptop</td>\n",
       "      <td>4054</td>\n",
       "    </tr>\n",
       "    <tr>\n",
       "      <th>16</th>\n",
       "      <td>Vareebadd Phone</td>\n",
       "      <td>2023</td>\n",
       "    </tr>\n",
       "    <tr>\n",
       "      <th>11</th>\n",
       "      <td>LG Washing Machine</td>\n",
       "      <td>649</td>\n",
       "    </tr>\n",
       "    <tr>\n",
       "      <th>10</th>\n",
       "      <td>LG Dryer</td>\n",
       "      <td>640</td>\n",
       "    </tr>\n",
       "  </tbody>\n",
       "</table>\n",
       "</div>"
      ],
      "text/plain": [
       "                       Product  Quantity\n",
       "5       AAA Batteries (4-pack)     30487\n",
       "4        AA Batteries (4-pack)     27148\n",
       "15        USB-C Charging Cable     23555\n",
       "12    Lightning Charging Cable     22841\n",
       "17            Wired Headphones     20201\n",
       "6     Apple Airpods Headphones     15383\n",
       "7   Bose SoundSport Headphones     13236\n",
       "2             27in FHD Monitor      7429\n",
       "18                      iPhone      6732\n",
       "1       27in 4K Gaming Monitor      6134\n",
       "3       34in Ultrawide Monitor      6076\n",
       "9                 Google Phone      5440\n",
       "8                Flatscreen TV      4724\n",
       "13          Macbook Pro Laptop      4645\n",
       "0                 20in Monitor      4058\n",
       "14             ThinkPad Laptop      4054\n",
       "16             Vareebadd Phone      2023\n",
       "11          LG Washing Machine       649\n",
       "10                    LG Dryer       640"
      ]
     },
     "execution_count": 257,
     "metadata": {},
     "output_type": "execute_result"
    }
   ],
   "source": [
    "productos"
   ]
  },
  {
   "cell_type": "code",
   "execution_count": 258,
   "id": "4ce3efce",
   "metadata": {},
   "outputs": [
    {
     "data": {
      "image/png": "[encoded data removed]",
      "text/plain": [
       "<Figure size 432x288 with 1 Axes>"
      ]
     },
     "metadata": {
      "needs_background": "light"
     },
     "output_type": "display_data"
    }
   ],
   "source": [
    "plt = sns.barplot(x= productos['Product'], y=productos['Quantity'])\n",
    "\n",
    "for item in plt.get_xticklabels():\n",
    "    item.set_rotation(90)"
   ]
  },
  {
   "cell_type": "markdown",
   "id": "104e8928",
   "metadata": {},
   "source": [
    "El producto mas vendido fue \"AAA Batteries (4-pack)\", considero que fue el mas vendido por ser común, esas pilas corresponden a \n",
    "controles de televisores, aires acondicionados, teclados, etc. "
   ]
  }
 ],
 "metadata": {
  "kernelspec": {
   "display_name": "Python 3 (ipykernel)",
   "language": "python",
   "name": "python3"
  },
  "language_info": {
   "codemirror_mode": {
    "name": "ipython",
    "version": 3
   },
   "file_extension": ".py",
   "mimetype": "text/x-python",
   "name": "python",
   "nbconvert_exporter": "python",
   "pygments_lexer": "ipython3",
   "version": "3.9.12"
  }
 },
 "nbformat": 4,
 "nbformat_minor": 5
}
