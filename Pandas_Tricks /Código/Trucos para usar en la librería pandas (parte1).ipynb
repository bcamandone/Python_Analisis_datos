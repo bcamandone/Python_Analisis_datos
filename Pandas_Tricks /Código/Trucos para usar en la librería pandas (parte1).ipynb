{
 "cells": [
  {
   "cell_type": "code",
   "execution_count": 2,
   "id": "42bd20b2",
   "metadata": {},
   "outputs": [],
   "source": [
    "import pandas as pd\n",
    "import seaborn as sns"
   ]
  },
  {
   "cell_type": "markdown",
   "id": "a01a2bcc",
   "metadata": {},
   "source": [
    "### 1.Filtrar datos de manera sencilla con query()"
   ]
  },
  {
   "cell_type": "markdown",
   "id": "eefd5dfe",
   "metadata": {},
   "source": [
    "La función de Pandas query() nos brindará una forma concisa de seleccionar filas de un dataframe según la condición"
   ]
  },
  {
   "cell_type": "code",
   "execution_count": 3,
   "id": "3840cffa",
   "metadata": {},
   "outputs": [
    {
     "data": {
      "text/html": [
       "<div>\n",
       "<style scoped>\n",
       "    .dataframe tbody tr th:only-of-type {\n",
       "        vertical-align: middle;\n",
       "    }\n",
       "\n",
       "    .dataframe tbody tr th {\n",
       "        vertical-align: top;\n",
       "    }\n",
       "\n",
       "    .dataframe thead th {\n",
       "        text-align: right;\n",
       "    }\n",
       "</style>\n",
       "<table border=\"1\" class=\"dataframe\">\n",
       "  <thead>\n",
       "    <tr style=\"text-align: right;\">\n",
       "      <th></th>\n",
       "      <th>Producto</th>\n",
       "      <th>Ventas</th>\n",
       "    </tr>\n",
       "  </thead>\n",
       "  <tbody>\n",
       "    <tr>\n",
       "      <th>0</th>\n",
       "      <td>Leche</td>\n",
       "      <td>2700</td>\n",
       "    </tr>\n",
       "    <tr>\n",
       "      <th>2</th>\n",
       "      <td>Harina</td>\n",
       "      <td>3750</td>\n",
       "    </tr>\n",
       "  </tbody>\n",
       "</table>\n",
       "</div>"
      ],
      "text/plain": [
       "  Producto  Ventas\n",
       "0    Leche    2700\n",
       "2   Harina    3750"
      ]
     },
     "execution_count": 3,
     "metadata": {},
     "output_type": "execute_result"
    }
   ],
   "source": [
    "# dataset \n",
    "data = {'Producto': ['Leche', 'Manteca', 'Harina', 'Tomate'],\n",
    "        'Ventas': [2700, 2000, 3750, 1200]}\n",
    "df = pd.DataFrame(data)\n",
    "\n",
    "# Buscamos los valores de venta mayores a 2500\n",
    "ventas_mayores = df.query('Ventas > 2500')\n",
    "\n",
    "ventas_mayores"
   ]
  },
  {
   "cell_type": "markdown",
   "id": "ba2d3106",
   "metadata": {},
   "source": [
    "### 2.Datos categóricos"
   ]
  },
  {
   "cell_type": "markdown",
   "id": "79789080",
   "metadata": {},
   "source": [
    "El uso del tipo de datos categóricos puede hacer que el análisis sea más eficiente y que sea más fácil trabajar con los datos, como por ejemplo a la hora de  aplicar un modelo de ML o filtrar fácilmente."
   ]
  },
  {
   "cell_type": "markdown",
   "id": "db0477a7",
   "metadata": {},
   "source": [
    "Supongamos que estamos trabajando con el dataset de un call center donde tenemos 3 categorías:\n",
    "\n",
    "    - Contactado\n",
    "    \n",
    "    - No contactado\n",
    "    \n",
    "    - Asesorado"
   ]
  },
  {
   "cell_type": "code",
   "execution_count": 4,
   "id": "6cdcea97",
   "metadata": {},
   "outputs": [
    {
     "name": "stdout",
     "output_type": "stream",
     "text": [
      "0       Contactado\n",
      "1        Asesorado\n",
      "2       Contactado\n",
      "3    No contactado\n",
      "Name: Feedback, dtype: category\n",
      "Categories (3, object): ['Asesorado', 'Contactado', 'No contactado']\n",
      "0    1\n",
      "1    0\n",
      "2    1\n",
      "3    2\n",
      "dtype: int8\n"
     ]
    }
   ],
   "source": [
    "# dataset \n",
    "data1 = {'ID_Cliente': ['456231', '987443', '332167', '594361'],\n",
    "        'Feedback': ['Contactado','Asesorado','Contactado','No contactado']}\n",
    "df1 = pd.DataFrame(data1)\n",
    "\n",
    "# Convertimos la columna Feedback a tipo de dato categorico\n",
    "df1['Feedback'] = df1['Feedback'].astype('category')\n",
    "\n",
    "print(df1['Feedback'])\n",
    "print(df1['Feedback'].cat.codes)"
   ]
  },
  {
   "cell_type": "markdown",
   "id": "2233d64d",
   "metadata": {},
   "source": [
    "### 3.Agregación"
   ]
  },
  {
   "cell_type": "markdown",
   "id": "b676d343",
   "metadata": {},
   "source": [
    "Podemos utilizar la función agg para aplicar diferentes agregaciones a diferentes columnas de un DataFrame."
   ]
  },
  {
   "cell_type": "code",
   "execution_count": 5,
   "id": "0fbfdb63",
   "metadata": {},
   "outputs": [
    {
     "data": {
      "text/html": [
       "<div>\n",
       "<style scoped>\n",
       "    .dataframe tbody tr th:only-of-type {\n",
       "        vertical-align: middle;\n",
       "    }\n",
       "\n",
       "    .dataframe tbody tr th {\n",
       "        vertical-align: top;\n",
       "    }\n",
       "\n",
       "    .dataframe thead th {\n",
       "        text-align: right;\n",
       "    }\n",
       "</style>\n",
       "<table border=\"1\" class=\"dataframe\">\n",
       "  <thead>\n",
       "    <tr style=\"text-align: right;\">\n",
       "      <th></th>\n",
       "      <th>age</th>\n",
       "      <th>fare</th>\n",
       "    </tr>\n",
       "  </thead>\n",
       "  <tbody>\n",
       "    <tr>\n",
       "      <th>min</th>\n",
       "      <td>0.420000</td>\n",
       "      <td>NaN</td>\n",
       "    </tr>\n",
       "    <tr>\n",
       "      <th>max</th>\n",
       "      <td>80.000000</td>\n",
       "      <td>NaN</td>\n",
       "    </tr>\n",
       "    <tr>\n",
       "      <th>mean</th>\n",
       "      <td>29.699118</td>\n",
       "      <td>32.204208</td>\n",
       "    </tr>\n",
       "    <tr>\n",
       "      <th>sum</th>\n",
       "      <td>NaN</td>\n",
       "      <td>28693.949300</td>\n",
       "    </tr>\n",
       "  </tbody>\n",
       "</table>\n",
       "</div>"
      ],
      "text/plain": [
       "            age          fare\n",
       "min    0.420000           NaN\n",
       "max   80.000000           NaN\n",
       "mean  29.699118     32.204208\n",
       "sum         NaN  28693.949300"
      ]
     },
     "execution_count": 5,
     "metadata": {},
     "output_type": "execute_result"
    }
   ],
   "source": [
    "df_titanic = sns.load_dataset('titanic')\n",
    "\n",
    "aggregaciones = df_titanic.agg({\n",
    "    'age': ['min', 'max', 'mean'],\n",
    "    'fare': ['sum', 'mean']\n",
    "})\n",
    "\n",
    "agregaciones1 = pd.DataFrame(aggregaciones)\n",
    "\n",
    "agregaciones1"
   ]
  },
  {
   "cell_type": "markdown",
   "id": "94ea2b2d",
   "metadata": {},
   "source": [
    "### 4.Multi-Index"
   ]
  },
  {
   "cell_type": "markdown",
   "id": "09b5a334",
   "metadata": {},
   "source": [
    "Pandas tiene una herramienta llamada MultiIndex o indexación jerárquica. Te permite manejar datos con más de dos niveles, como en una tabla"
   ]
  },
  {
   "cell_type": "code",
   "execution_count": 6,
   "id": "b6a25094",
   "metadata": {},
   "outputs": [
    {
     "data": {
      "text/html": [
       "<div>\n",
       "<style scoped>\n",
       "    .dataframe tbody tr th:only-of-type {\n",
       "        vertical-align: middle;\n",
       "    }\n",
       "\n",
       "    .dataframe tbody tr th {\n",
       "        vertical-align: top;\n",
       "    }\n",
       "\n",
       "    .dataframe thead th {\n",
       "        text-align: right;\n",
       "    }\n",
       "</style>\n",
       "<table border=\"1\" class=\"dataframe\">\n",
       "  <thead>\n",
       "    <tr style=\"text-align: right;\">\n",
       "      <th></th>\n",
       "      <th></th>\n",
       "      <th>Ventas</th>\n",
       "    </tr>\n",
       "    <tr>\n",
       "      <th>Año</th>\n",
       "      <th>Mes</th>\n",
       "      <th></th>\n",
       "    </tr>\n",
       "  </thead>\n",
       "  <tbody>\n",
       "    <tr>\n",
       "      <th rowspan=\"2\" valign=\"top\">2024</th>\n",
       "      <th>1</th>\n",
       "      <td>250000</td>\n",
       "    </tr>\n",
       "    <tr>\n",
       "      <th>2</th>\n",
       "      <td>300000</td>\n",
       "    </tr>\n",
       "    <tr>\n",
       "      <th rowspan=\"4\" valign=\"top\">2023</th>\n",
       "      <th>3</th>\n",
       "      <td>400000</td>\n",
       "    </tr>\n",
       "    <tr>\n",
       "      <th>4</th>\n",
       "      <td>500000</td>\n",
       "    </tr>\n",
       "    <tr>\n",
       "      <th>5</th>\n",
       "      <td>324000</td>\n",
       "    </tr>\n",
       "    <tr>\n",
       "      <th>6</th>\n",
       "      <td>127000</td>\n",
       "    </tr>\n",
       "  </tbody>\n",
       "</table>\n",
       "</div>"
      ],
      "text/plain": [
       "          Ventas\n",
       "Año  Mes        \n",
       "2024 1    250000\n",
       "     2    300000\n",
       "2023 3    400000\n",
       "     4    500000\n",
       "     5    324000\n",
       "     6    127000"
      ]
     },
     "execution_count": 6,
     "metadata": {},
     "output_type": "execute_result"
    }
   ],
   "source": [
    "# dataset\n",
    "data3 = {\n",
    "    'Año': [2024, 2024, 2023, 2023,2023,2023],\n",
    "    'Mes': ['1', '2', '3', '4','5','6'],\n",
    "    'Ventas': [250000, 300000, 400000, 500000,324000,127000]\n",
    "}\n",
    "\n",
    "df3 = pd.DataFrame(data3)\n",
    "\n",
    "# Set MultiIndex\n",
    "df3.set_index(['Año', 'Mes'], inplace=True)\n",
    "\n",
    "df3"
   ]
  },
  {
   "cell_type": "markdown",
   "id": "da3bbe39",
   "metadata": {},
   "source": [
    "### 5.Filtrar con el método isin"
   ]
  },
  {
   "cell_type": "markdown",
   "id": "af33b645",
   "metadata": {},
   "source": [
    "Podemos utilizar el método isin para filtrar filas según una lista de valores.\n",
    "Este método es útil cuando trabajamos con datos categóricos y deseamos seleccionar filas que pertenecen a determinadas categorías. \n",
    "Es más conciso que utilizar múltiples condiciones lógicas con el operador &."
   ]
  },
  {
   "cell_type": "code",
   "execution_count": 7,
   "id": "a6711ee7",
   "metadata": {},
   "outputs": [],
   "source": [
    "titanic_filtrado = df_titanic[df_titanic['class'].isin(['First', 'Second'])]"
   ]
  },
  {
   "cell_type": "code",
   "execution_count": 8,
   "id": "ca4403d4",
   "metadata": {},
   "outputs": [
    {
     "data": {
      "text/html": [
       "<div>\n",
       "<style scoped>\n",
       "    .dataframe tbody tr th:only-of-type {\n",
       "        vertical-align: middle;\n",
       "    }\n",
       "\n",
       "    .dataframe tbody tr th {\n",
       "        vertical-align: top;\n",
       "    }\n",
       "\n",
       "    .dataframe thead th {\n",
       "        text-align: right;\n",
       "    }\n",
       "</style>\n",
       "<table border=\"1\" class=\"dataframe\">\n",
       "  <thead>\n",
       "    <tr style=\"text-align: right;\">\n",
       "      <th></th>\n",
       "      <th>survived</th>\n",
       "      <th>pclass</th>\n",
       "      <th>sex</th>\n",
       "      <th>age</th>\n",
       "      <th>sibsp</th>\n",
       "      <th>parch</th>\n",
       "      <th>fare</th>\n",
       "      <th>embarked</th>\n",
       "      <th>class</th>\n",
       "      <th>who</th>\n",
       "      <th>adult_male</th>\n",
       "      <th>deck</th>\n",
       "      <th>embark_town</th>\n",
       "      <th>alive</th>\n",
       "      <th>alone</th>\n",
       "    </tr>\n",
       "  </thead>\n",
       "  <tbody>\n",
       "    <tr>\n",
       "      <th>1</th>\n",
       "      <td>1</td>\n",
       "      <td>1</td>\n",
       "      <td>female</td>\n",
       "      <td>38.0</td>\n",
       "      <td>1</td>\n",
       "      <td>0</td>\n",
       "      <td>71.2833</td>\n",
       "      <td>C</td>\n",
       "      <td>First</td>\n",
       "      <td>woman</td>\n",
       "      <td>False</td>\n",
       "      <td>C</td>\n",
       "      <td>Cherbourg</td>\n",
       "      <td>yes</td>\n",
       "      <td>False</td>\n",
       "    </tr>\n",
       "    <tr>\n",
       "      <th>3</th>\n",
       "      <td>1</td>\n",
       "      <td>1</td>\n",
       "      <td>female</td>\n",
       "      <td>35.0</td>\n",
       "      <td>1</td>\n",
       "      <td>0</td>\n",
       "      <td>53.1000</td>\n",
       "      <td>S</td>\n",
       "      <td>First</td>\n",
       "      <td>woman</td>\n",
       "      <td>False</td>\n",
       "      <td>C</td>\n",
       "      <td>Southampton</td>\n",
       "      <td>yes</td>\n",
       "      <td>False</td>\n",
       "    </tr>\n",
       "    <tr>\n",
       "      <th>6</th>\n",
       "      <td>0</td>\n",
       "      <td>1</td>\n",
       "      <td>male</td>\n",
       "      <td>54.0</td>\n",
       "      <td>0</td>\n",
       "      <td>0</td>\n",
       "      <td>51.8625</td>\n",
       "      <td>S</td>\n",
       "      <td>First</td>\n",
       "      <td>man</td>\n",
       "      <td>True</td>\n",
       "      <td>E</td>\n",
       "      <td>Southampton</td>\n",
       "      <td>no</td>\n",
       "      <td>True</td>\n",
       "    </tr>\n",
       "    <tr>\n",
       "      <th>9</th>\n",
       "      <td>1</td>\n",
       "      <td>2</td>\n",
       "      <td>female</td>\n",
       "      <td>14.0</td>\n",
       "      <td>1</td>\n",
       "      <td>0</td>\n",
       "      <td>30.0708</td>\n",
       "      <td>C</td>\n",
       "      <td>Second</td>\n",
       "      <td>child</td>\n",
       "      <td>False</td>\n",
       "      <td>NaN</td>\n",
       "      <td>Cherbourg</td>\n",
       "      <td>yes</td>\n",
       "      <td>False</td>\n",
       "    </tr>\n",
       "    <tr>\n",
       "      <th>11</th>\n",
       "      <td>1</td>\n",
       "      <td>1</td>\n",
       "      <td>female</td>\n",
       "      <td>58.0</td>\n",
       "      <td>0</td>\n",
       "      <td>0</td>\n",
       "      <td>26.5500</td>\n",
       "      <td>S</td>\n",
       "      <td>First</td>\n",
       "      <td>woman</td>\n",
       "      <td>False</td>\n",
       "      <td>C</td>\n",
       "      <td>Southampton</td>\n",
       "      <td>yes</td>\n",
       "      <td>True</td>\n",
       "    </tr>\n",
       "  </tbody>\n",
       "</table>\n",
       "</div>"
      ],
      "text/plain": [
       "    survived  pclass     sex   age  sibsp  parch     fare embarked   class  \\\n",
       "1          1       1  female  38.0      1      0  71.2833        C   First   \n",
       "3          1       1  female  35.0      1      0  53.1000        S   First   \n",
       "6          0       1    male  54.0      0      0  51.8625        S   First   \n",
       "9          1       2  female  14.0      1      0  30.0708        C  Second   \n",
       "11         1       1  female  58.0      0      0  26.5500        S   First   \n",
       "\n",
       "      who  adult_male deck  embark_town alive  alone  \n",
       "1   woman       False    C    Cherbourg   yes  False  \n",
       "3   woman       False    C  Southampton   yes  False  \n",
       "6     man        True    E  Southampton    no   True  \n",
       "9   child       False  NaN    Cherbourg   yes  False  \n",
       "11  woman       False    C  Southampton   yes   True  "
      ]
     },
     "execution_count": 8,
     "metadata": {},
     "output_type": "execute_result"
    }
   ],
   "source": [
    "titanic_filtrado.head()"
   ]
  }
 ],
 "metadata": {
  "kernelspec": {
   "display_name": "Python 3 (ipykernel)",
   "language": "python",
   "name": "python3"
  },
  "language_info": {
   "codemirror_mode": {
    "name": "ipython",
    "version": 3
   },
   "file_extension": ".py",
   "mimetype": "text/x-python",
   "name": "python",
   "nbconvert_exporter": "python",
   "pygments_lexer": "ipython3",
   "version": "3.11.4"
  }
 },
 "nbformat": 4,
 "nbformat_minor": 5
}
