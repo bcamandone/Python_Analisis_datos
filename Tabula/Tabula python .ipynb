{
 "cells": [
  {
   "cell_type": "code",
   "execution_count": 4,
   "id": "dd610bd2",
   "metadata": {},
   "outputs": [],
   "source": [
    "# %pip install tabula-py"
   ]
  },
  {
   "cell_type": "code",
   "execution_count": 121,
   "id": "8a8f0c0e",
   "metadata": {},
   "outputs": [],
   "source": [
    "import tabula"
   ]
  },
  {
   "cell_type": "code",
   "execution_count": 122,
   "id": "0711fbcd",
   "metadata": {},
   "outputs": [
    {
     "name": "stdout",
     "output_type": "stream",
     "text": [
      "Python version:\n",
      "    3.11.4 | packaged by Anaconda, Inc. | (main, Jul  5 2023, 13:38:37) [MSC v.1916 64 bit (AMD64)]\n",
      "Java version:\n",
      "    java version \"1.8.0_381\"\r\n",
      "Java(TM) SE Runtime Environment (build 1.8.0_381-b09)\r\n",
      "Java HotSpot(TM) 64-Bit Server VM (build 25.381-b09, mixed mode)\n",
      "tabula-py version: 2.8.1\n",
      "platform: Windows-10-10.0.22621-SP0\n",
      "uname:\n",
      "    uname_result(system='Windows', node='LAPTOP-ARFRNGJ9', release='10', version='10.0.22621', machine='AMD64')\n",
      "linux_distribution: ('', '', '')\n",
      "mac_ver: ('', ('', '', ''), '')\n"
     ]
    }
   ],
   "source": [
    "tabula.environment_info()"
   ]
  },
  {
   "cell_type": "code",
   "execution_count": 123,
   "id": "ce0f648e",
   "metadata": {},
   "outputs": [],
   "source": [
    "from tabula import read_pdf"
   ]
  },
  {
   "cell_type": "code",
   "execution_count": 124,
   "id": "fc6a93ff",
   "metadata": {},
   "outputs": [],
   "source": [
    "# leemos el pdf con la información de la acción \n",
    "df = read_pdf('PreciosPuentenet.pdf', stream=True,pages='all')"
   ]
  },
  {
   "cell_type": "code",
   "execution_count": 125,
   "id": "6e99ccfb",
   "metadata": {},
   "outputs": [],
   "source": [
    "# convertir pdf a csv\n",
    "tabula.convert_into('PreciosPuentenet.pdf','data.csv', output_format=\"csv\", pages='all')"
   ]
  },
  {
   "cell_type": "code",
   "execution_count": 126,
   "id": "779744e8",
   "metadata": {},
   "outputs": [],
   "source": [
    "import pandas as pd"
   ]
  },
  {
   "cell_type": "code",
   "execution_count": 127,
   "id": "59b90d8b",
   "metadata": {},
   "outputs": [],
   "source": [
    "df = pd.read_csv('data.csv')"
   ]
  },
  {
   "cell_type": "code",
   "execution_count": 128,
   "id": "1c5ee324",
   "metadata": {},
   "outputs": [
    {
     "data": {
      "text/html": [
       "<div>\n",
       "<style scoped>\n",
       "    .dataframe tbody tr th:only-of-type {\n",
       "        vertical-align: middle;\n",
       "    }\n",
       "\n",
       "    .dataframe tbody tr th {\n",
       "        vertical-align: top;\n",
       "    }\n",
       "\n",
       "    .dataframe thead th {\n",
       "        text-align: right;\n",
       "    }\n",
       "</style>\n",
       "<table border=\"1\" class=\"dataframe\">\n",
       "  <thead>\n",
       "    <tr style=\"text-align: right;\">\n",
       "      <th></th>\n",
       "      <th>Instrumento</th>\n",
       "      <th>Fecha</th>\n",
       "      <th>Precio</th>\n",
       "      <th>Var %</th>\n",
       "      <th>Var Anual %</th>\n",
       "      <th>TIR %</th>\n",
       "      <th>Mod. Duration(Años)</th>\n",
       "    </tr>\n",
       "  </thead>\n",
       "  <tbody>\n",
       "    <tr>\n",
       "      <th>0</th>\n",
       "      <td>MELI</td>\n",
       "      <td>15/09/2023</td>\n",
       "      <td>17170,00</td>\n",
       "      <td>0,44</td>\n",
       "      <td>3,00</td>\n",
       "      <td>-</td>\n",
       "      <td>-</td>\n",
       "    </tr>\n",
       "    <tr>\n",
       "      <th>1</th>\n",
       "      <td>MELI</td>\n",
       "      <td>15/09/2023</td>\n",
       "      <td>17170,00</td>\n",
       "      <td>0,44</td>\n",
       "      <td>3,00</td>\n",
       "      <td>-</td>\n",
       "      <td>-</td>\n",
       "    </tr>\n",
       "    <tr>\n",
       "      <th>2</th>\n",
       "      <td>MELI</td>\n",
       "      <td>14/09/2023</td>\n",
       "      <td>17095,00</td>\n",
       "      <td>0,00</td>\n",
       "      <td>3,00</td>\n",
       "      <td>-</td>\n",
       "      <td>-</td>\n",
       "    </tr>\n",
       "    <tr>\n",
       "      <th>3</th>\n",
       "      <td>MELI</td>\n",
       "      <td>13/09/2023</td>\n",
       "      <td>17250,50</td>\n",
       "      <td>0,00</td>\n",
       "      <td>2,80</td>\n",
       "      <td>-</td>\n",
       "      <td>-</td>\n",
       "    </tr>\n",
       "    <tr>\n",
       "      <th>4</th>\n",
       "      <td>MELI</td>\n",
       "      <td>12/09/2023</td>\n",
       "      <td>17248,50</td>\n",
       "      <td>0,00</td>\n",
       "      <td>3,00</td>\n",
       "      <td>-</td>\n",
       "      <td>-</td>\n",
       "    </tr>\n",
       "  </tbody>\n",
       "</table>\n",
       "</div>"
      ],
      "text/plain": [
       "  Instrumento       Fecha    Precio Var % Var Anual % TIR %  \\\n",
       "0        MELI  15/09/2023  17170,00  0,44        3,00     -   \n",
       "1        MELI  15/09/2023  17170,00  0,44        3,00     -   \n",
       "2        MELI  14/09/2023  17095,00  0,00        3,00     -   \n",
       "3        MELI  13/09/2023  17250,50  0,00        2,80     -   \n",
       "4        MELI  12/09/2023  17248,50  0,00        3,00     -   \n",
       "\n",
       "  Mod. Duration(Años)  \n",
       "0                   -  \n",
       "1                   -  \n",
       "2                   -  \n",
       "3                   -  \n",
       "4                   -  "
      ]
     },
     "execution_count": 128,
     "metadata": {},
     "output_type": "execute_result"
    }
   ],
   "source": [
    "data.head()"
   ]
  }
 ],
 "metadata": {
  "kernelspec": {
   "display_name": "Python 3 (ipykernel)",
   "language": "python",
   "name": "python3"
  },
  "language_info": {
   "codemirror_mode": {
    "name": "ipython",
    "version": 3
   },
   "file_extension": ".py",
   "mimetype": "text/x-python",
   "name": "python",
   "nbconvert_exporter": "python",
   "pygments_lexer": "ipython3",
   "version": "3.11.4"
  }
 },
 "nbformat": 4,
 "nbformat_minor": 5
}
